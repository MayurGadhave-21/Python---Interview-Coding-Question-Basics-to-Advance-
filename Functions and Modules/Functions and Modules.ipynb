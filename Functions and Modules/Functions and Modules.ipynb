{
 "cells": [
  {
   "cell_type": "markdown",
   "id": "a2b4749b",
   "metadata": {},
   "source": [
    "## Assignment 3 : Functions and Modules"
   ]
  },
  {
   "cell_type": "markdown",
   "id": "de90fa9d",
   "metadata": {},
   "source": [
    "## Submitted By : Mayur Gadhave"
   ]
  },
  {
   "cell_type": "markdown",
   "id": "2c1c50e5",
   "metadata": {},
   "source": [
    "## Game of \"Functions\""
   ]
  },
  {
   "cell_type": "markdown",
   "id": "92621dbc",
   "metadata": {},
   "source": [
    "###  Write a Python function to sum all the numbers in a list.\n"
   ]
  },
  {
   "cell_type": "code",
   "execution_count": 4,
   "id": "706c4961",
   "metadata": {},
   "outputs": [
    {
     "name": "stdout",
     "output_type": "stream",
     "text": [
      "Enter a list of numbers (Space Separated): \n",
      "8 2 3 0 7\n",
      "The sum of the numbers is:  20\n"
     ]
    }
   ],
   "source": [
    "# This function sums all the numbers in a list.\n",
    "def sum_list(numbers):\n",
    "  # Initialize a variable to store the sum of the numbers.\n",
    "  sum = 0\n",
    "\n",
    "  # Iterate through the list of numbers and add each number to the sum.\n",
    "  for number in numbers:\n",
    "    sum += number\n",
    "\n",
    "  # Return the sum of the numbers.\n",
    "  return sum\n",
    "\n",
    "\n",
    "# Prompt the user to enter a list of numbers.\n",
    "print(\"Enter a list of numbers (Space Separated): \")\n",
    "\n",
    "# Initialize a list to store the numbers entered by the user.\n",
    "numbers = []\n",
    "\n",
    "# Iterate through the user input and convert each number to an integer.\n",
    "# Then, add the number to the list of numbers.\n",
    "for number in input().split():\n",
    "    number = int(number)\n",
    "    numbers.append(number)\n",
    "\n",
    "# Print the sum of the numbers.\n",
    "print(\"The sum of the numbers is: \", sum_list(numbers))\n"
   ]
  },
  {
   "cell_type": "markdown",
   "id": "dcb74ae7",
   "metadata": {},
   "source": [
    "### String inside the function"
   ]
  },
  {
   "cell_type": "code",
   "execution_count": 6,
   "id": "c24dcd38",
   "metadata": {},
   "outputs": [
    {
     "name": "stdout",
     "output_type": "stream",
     "text": [
      "Enter a string: 1234abcd\n",
      "The reversed string is:  dcba4321\n"
     ]
    }
   ],
   "source": [
    "def reverse_string(string):\n",
    "  # Initialize a new string to store the reversed string.\n",
    "  reversed_string = \"\"\n",
    "\n",
    "  # Iterate through the string in reverse order and add each character to the new string.\n",
    "  for character in string[::-1]:\n",
    "    # Add the character to the new string.\n",
    "    reversed_string += character\n",
    "\n",
    "  # Return the reversed string.\n",
    "  return reversed_string\n",
    "\n",
    "\n",
    "# Prompt the user to enter a string.\n",
    "string = input(\"Enter a string: \")\n",
    "\n",
    "# Reverse the string and print the result.\n",
    "reversed_string = reverse_string(string)\n",
    "print(\"The reversed string is: \", reversed_string)\n"
   ]
  },
  {
   "cell_type": "markdown",
   "id": "6dc0990c",
   "metadata": {},
   "source": [
    "### Write a Python function that accepts a string and calculate the number of upper case letters and lower case letters."
   ]
  },
  {
   "cell_type": "code",
   "execution_count": 9,
   "id": "19b8b2a8",
   "metadata": {},
   "outputs": [
    {
     "name": "stdout",
     "output_type": "stream",
     "text": [
      "Enter String :The quick Brow Fox\n",
      "No. of Upper case characters :  3\n",
      "No. of Lower case characters :  12\n"
     ]
    }
   ],
   "source": [
    "def count_upper_lower_case(string):\n",
    "  # Initialize two variables to count the number of upper case and lower case letters.\n",
    "  upper_case_letters = 0\n",
    "  lower_case_letters = 0\n",
    "\n",
    "  # Iterate through the string and check each character to see if it is an upper case letter or a lower case letter.\n",
    "  for character in string:\n",
    "    # If the character is an upper case letter, increment the `upper_case_letters` variable.\n",
    "    if character.isupper():\n",
    "      upper_case_letters += 1\n",
    "    # If the character is a lower case letter, increment the `lower_case_letters` variable.\n",
    "    elif character.islower():\n",
    "      lower_case_letters += 1\n",
    "\n",
    "  # Return a tuple of the two variables.\n",
    "  return upper_case_letters, lower_case_letters\n",
    "\n",
    "\n",
    "# Prompt the user to enter a string.\n",
    "string = input(\"Enter String :\")\n",
    "\n",
    "# Count the number of upper case and lower case letters in the string.\n",
    "upper_case_letters, lower_case_letters = count_upper_lower_case(string)\n",
    "\n",
    "# Print the number of upper case and lower case letters.\n",
    "print(\"No. of Upper case characters : \", upper_case_letters)\n",
    "print(\"No. of Lower case characters : \", lower_case_letters)\n"
   ]
  },
  {
   "cell_type": "code",
   "execution_count": null,
   "id": "e3fd3d7e",
   "metadata": {},
   "outputs": [],
   "source": []
  }
 ],
 "metadata": {
  "kernelspec": {
   "display_name": "Python 3 (ipykernel)",
   "language": "python",
   "name": "python3"
  },
  "language_info": {
   "codemirror_mode": {
    "name": "ipython",
    "version": 3
   },
   "file_extension": ".py",
   "mimetype": "text/x-python",
   "name": "python",
   "nbconvert_exporter": "python",
   "pygments_lexer": "ipython3",
   "version": "3.10.4"
  }
 },
 "nbformat": 4,
 "nbformat_minor": 5
}

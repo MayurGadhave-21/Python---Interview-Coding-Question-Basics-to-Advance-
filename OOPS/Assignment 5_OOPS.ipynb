{
 "cells": [
  {
   "cell_type": "markdown",
   "id": "1d676254",
   "metadata": {},
   "source": [
    "## Oops Assignment <br> Submitted by : Mayur Gadhave <br> DS060623"
   ]
  },
  {
   "cell_type": "markdown",
   "id": "d0862f1f",
   "metadata": {},
   "source": [
    "## Challenge 1: Square Numbers and Return Their Sum"
   ]
  },
  {
   "cell_type": "code",
   "execution_count": 4,
   "id": "9d99869c",
   "metadata": {},
   "outputs": [
    {
     "name": "stdout",
     "output_type": "stream",
     "text": [
      "Enter the value of x: 1\n",
      "Enter the value of y: 3\n",
      "Enter the value of z: 5\n",
      "The sum of squares of given numbers is  35\n"
     ]
    }
   ],
   "source": [
    "class Point:\n",
    "    def __init__(self, x, y, z):\n",
    "        self.x = x\n",
    "        self.y = y\n",
    "        self.z = z\n",
    "    \n",
    "    def sqSum(self):\n",
    "        return self.x**2 + self.y**2 + self.z**2\n",
    "\n",
    "\n",
    "x_value = int(input(\"Enter the value of x: \"))\n",
    "y_value = int(input(\"Enter the value of y: \"))\n",
    "z_value = int(input(\"Enter the value of z: \"))\n",
    "\n",
    "# Create a Point object with the user-provided values\n",
    "point_object = Point(x_value, y_value, z_value)\n",
    "\n",
    "# Call the sqSum() method to get the sum of squared properties\n",
    "result = point_object.sqSum()\n",
    "\n",
    "print(\"The sum of squares of given numbers is \", result)\n"
   ]
  },
  {
   "cell_type": "markdown",
   "id": "ad6408dc",
   "metadata": {},
   "source": [
    "## Challenge 2: Implement a Calculator Class"
   ]
  },
  {
   "cell_type": "code",
   "execution_count": 8,
   "id": "9a223839",
   "metadata": {},
   "outputs": [
    {
     "name": "stdout",
     "output_type": "stream",
     "text": [
      "Enter the value of num1: 10\n",
      "Enter the value of num2: 94\n",
      "Addition Result: 104\n",
      "Subtraction Result: 84\n",
      "Multiplication Result: 940\n",
      "Division Result: 9.4\n"
     ]
    }
   ],
   "source": [
    "class Calculator:\n",
    "    def __init__(self, num1, num2):\n",
    "        self.num1 = num1\n",
    "        self.num2 = num2\n",
    "    \n",
    "    def add(self):\n",
    "        return self.num1 + self.num2\n",
    "    \n",
    "    def subtract(self):\n",
    "        return self.num2 - self.num1\n",
    "    \n",
    "    def multiply(self):\n",
    "        return self.num1 * self.num2\n",
    "    \n",
    "    def divide(self):\n",
    "        # Ensure num1 is not zero to avoid division by zero error\n",
    "        if self.num1 == 0:\n",
    "            raise ValueError(\"Cannot divide by zero.\")\n",
    "        return self.num2 / self.num1\n",
    "\n",
    "\n",
    "num1_value = int(input(\"Enter the value of num1: \"))\n",
    "num2_value = int(input(\"Enter the value of num2: \"))\n",
    "\n",
    "# Creating a Calculator object with the user-provided values\n",
    "obj = Calculator(num1_value, num2_value)\n",
    "\n",
    "# Performing the calculations using the methods of the Calculator class\n",
    "addition_result = obj.add()\n",
    "subtraction_result = obj.subtract()\n",
    "multiplication_result = obj.multiply()\n",
    "\n",
    "print(\"Addition Result:\", addition_result)\n",
    "print(\"Subtraction Result:\", subtraction_result)\n",
    "print(\"Multiplication Result:\",multiplication_result)\n",
    "\n",
    "try:\n",
    "    division_result = obj.divide()\n",
    "    print(\"Division Result:\",division_result)\n",
    "except ValueError as e:\n",
    "    print(e)\n"
   ]
  },
  {
   "cell_type": "markdown",
   "id": "08a5d44d",
   "metadata": {},
   "source": [
    "## Challenge 3: Implement the Complete Student Class"
   ]
  },
  {
   "cell_type": "code",
   "execution_count": 11,
   "id": "65e48cdc",
   "metadata": {},
   "outputs": [
    {
     "name": "stdout",
     "output_type": "stream",
     "text": [
      "Name: Mayur Gadhave\n",
      "Roll Number: 322\n"
     ]
    }
   ],
   "source": [
    "class Student:\n",
    "    def setName(self, name):\n",
    "        self.__name = name\n",
    "\n",
    "    def setRollNumber(self, rollNumber):\n",
    "        self.__rollNumber = rollNumber\n",
    "\n",
    "    def getName(self):\n",
    "        return self.__name\n",
    "\n",
    "    def getRollNumber(self):\n",
    "        return self.__rollNumber\n",
    "\n",
    "\n",
    "# Creating a Student object and setting the properties using the setter methods\n",
    "student = Student()\n",
    "student.setName(\"Mayur Gadhave\")\n",
    "student.setRollNumber(322)\n",
    "\n",
    "# Accessing the private properties using the getter methods\n",
    "print(\"Name:\", student.getName())\n",
    "print(\"Roll Number:\", student.getRollNumber()) "
   ]
  },
  {
   "cell_type": "markdown",
   "id": "483234fa",
   "metadata": {},
   "source": [
    "## Challenge 4: Implement a Banking Account"
   ]
  },
  {
   "cell_type": "code",
   "execution_count": 13,
   "id": "51376094",
   "metadata": {},
   "outputs": [
    {
     "name": "stdout",
     "output_type": "stream",
     "text": [
      "Title: Ashish\n",
      "Balance: 5000\n",
      "Interest Rate: 5\n"
     ]
    }
   ],
   "source": [
    "class Account:\n",
    "    def __init__(self, title=None, balance=0):\n",
    "        self.title = title\n",
    "        self.balance = balance\n",
    "\n",
    "\n",
    "class SavingsAccount(Account):\n",
    "    def __init__(self, title=None, balance=0, interestRate=0):\n",
    "        super().__init__(title, balance)\n",
    "        self.interestRate = interestRate\n",
    "\n",
    "\n",
    "# Creating an instance of the SavingsAccount class with the given parameters\n",
    "savings_account = SavingsAccount(\"Ashish\", 5000, 5)\n",
    "\n",
    "# Printing the properties\n",
    "print(\"Title:\", savings_account.title)\n",
    "print(\"Balance:\", savings_account.balance)\n",
    "print(\"Interest Rate:\", savings_account.interestRate)\n"
   ]
  },
  {
   "cell_type": "markdown",
   "id": "0c9ff6a4",
   "metadata": {},
   "source": [
    "## Challenge 5: Handling a Bank Account"
   ]
  },
  {
   "cell_type": "code",
   "execution_count": 16,
   "id": "e676e727",
   "metadata": {},
   "outputs": [
    {
     "name": "stdout",
     "output_type": "stream",
     "text": [
      "Initial Balance: 10000\n",
      "Interest Amount: 1000.0\n",
      "After Deposit: 12000\n",
      "Interest Amount after Deposit: 1200.0\n"
     ]
    }
   ],
   "source": [
    "class Account:\n",
    "    def __init__(self, title=None, balance=0):\n",
    "        self.title = title\n",
    "        self.balance = balance\n",
    "\n",
    "    def getBalance(self):\n",
    "        return self.balance\n",
    "\n",
    "    def deposit(self, amount):\n",
    "        self.balance += amount\n",
    "\n",
    "    def withdrawal(self, amount):\n",
    "        self.balance -= amount\n",
    "\n",
    "\n",
    "class SavingsAccount(Account):\n",
    "    def __init__(self, title=None, balance=0, interestRate=0):\n",
    "        super().__init__(title, balance)\n",
    "        self.interestRate = interestRate\n",
    "\n",
    "    def interestAmount(self):\n",
    "        return (self.interestRate * self.balance) / 100\n",
    "\n",
    "\n",
    "savings_account = SavingsAccount(\"Aashish\", 10000, 10)\n",
    "\n",
    "print(\"Initial Balance:\", savings_account.getBalance())  \n",
    "\n",
    "interest_amount = savings_account.interestAmount()\n",
    "print(\"Interest Amount:\", interest_amount)  \n",
    "\n",
    "# Depositing some amount to the savings account\n",
    "savings_account.deposit(2000)\n",
    "print(\"After Deposit:\", savings_account.getBalance())\n",
    "\n",
    "interest_amount = savings_account.interestAmount()\n",
    "print(\"Interest Amount after Deposit:\", interest_amount) "
   ]
  }
 ],
 "metadata": {
  "kernelspec": {
   "display_name": "Python 3 (ipykernel)",
   "language": "python",
   "name": "python3"
  },
  "language_info": {
   "codemirror_mode": {
    "name": "ipython",
    "version": 3
   },
   "file_extension": ".py",
   "mimetype": "text/x-python",
   "name": "python",
   "nbconvert_exporter": "python",
   "pygments_lexer": "ipython3",
   "version": "3.10.4"
  }
 },
 "nbformat": 4,
 "nbformat_minor": 5
}

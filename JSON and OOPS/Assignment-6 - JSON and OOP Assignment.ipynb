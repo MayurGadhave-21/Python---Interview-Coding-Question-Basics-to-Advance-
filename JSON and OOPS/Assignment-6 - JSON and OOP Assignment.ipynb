{
 "cells": [
  {
   "cell_type": "markdown",
   "id": "1b2ae2b9",
   "metadata": {},
   "source": [
    "## Assignment-6: JSON and OOP Assignment\n",
    "## Submitted By : Mayur Gadhave"
   ]
  },
  {
   "cell_type": "markdown",
   "id": "3821a278",
   "metadata": {},
   "source": [
    "## Assignment 1 :"
   ]
  },
  {
   "cell_type": "markdown",
   "id": "169ea27f",
   "metadata": {},
   "source": [
    "### 1. Create a JSON file (employee.json) containing employee information of minimum 5 employees. Each employee information consists of Name, DOB, Height, City, State. Write a python program that reads this information from the JSON file and saves the information into a list of objects of Employee class. Finally print the list of the Employee objects."
   ]
  },
  {
   "cell_type": "code",
   "execution_count": 1,
   "id": "0a6103ed",
   "metadata": {},
   "outputs": [
    {
     "name": "stdout",
     "output_type": "stream",
     "text": [
      "Name: Amit Kumar, DOB: 1990-05-15, Height: 175, City: Delhi, State: Delhi\n",
      "Name: Priya Sharma, DOB: 1988-10-22, Height: 163, City: Mumbai, State: Maharashtra\n",
      "Name: Rahul Patel, DOB: 1995-02-10, Height: 180, City: Ahmedabad, State: Gujarat\n",
      "Name: Anjali Gupta, DOB: 1992-09-05, Height: 160, City: Kolkata, State: West Bengal\n",
      "Name: Vikram Singh, DOB: 1985-12-18, Height: 185, City: Bangalore, State: Karnataka\n"
     ]
    }
   ],
   "source": [
    "import json\n",
    "\n",
    "class Employee:\n",
    "    def __init__(self, name, dob, height, city, state):\n",
    "        self.name = name\n",
    "        self.dob = dob\n",
    "        self.height = height\n",
    "        self.city = city\n",
    "        self.state = state\n",
    "\n",
    "# Read employee data from JSON file\n",
    "with open('employee.json') as json_file:\n",
    "    employee_data = json.load(json_file)\n",
    "\n",
    "# Create a list of Employee objects\n",
    "employee_objects = []\n",
    "for emp in employee_data:\n",
    "    employee_objects.append(Employee(\n",
    "        emp['Name'], emp['DOB'], emp['Height'], emp['City'], emp['State']))\n",
    "\n",
    "# Print the list of Employee objects\n",
    "for emp_obj in employee_objects:\n",
    "    print(f\"Name: {emp_obj.name}, DOB: {emp_obj.dob}, Height: {emp_obj.height}, City: {emp_obj.city}, State: {emp_obj.state}\")\n"
   ]
  },
  {
   "cell_type": "markdown",
   "id": "27977691",
   "metadata": {},
   "source": [
    "### 2. Create a dictionary of any 7 Indian states and their capitals. Write this into a JSON file.\n",
    "\n"
   ]
  },
  {
   "cell_type": "code",
   "execution_count": 2,
   "id": "95930181",
   "metadata": {},
   "outputs": [
    {
     "name": "stdout",
     "output_type": "stream",
     "text": [
      "Data has been written to 'indian_states.json'\n"
     ]
    }
   ],
   "source": [
    "import json\n",
    "\n",
    "# Dictionary of Indian states and capitals\n",
    "indian_states = {\n",
    "    \"Andhra Pradesh\": \"Amaravati\",\n",
    "    \"Maharashtra\": \"Mumbai\",\n",
    "    \"Karnataka\": \"Bengaluru\",\n",
    "    \"Tamil Nadu\": \"Chennai\",\n",
    "    \"Telangana\": \"Hyderabad\",\n",
    "    \"Uttar Pradesh\": \"Lucknow\",\n",
    "    \"Gujarat\": \"Gandhinagar\"\n",
    "}\n",
    "\n",
    "# Write the dictionary to a JSON file\n",
    "with open('indian_states.json', 'w') as json_file:\n",
    "    json.dump(indian_states, json_file, indent=4)\n",
    "\n",
    "print(\"Data has been written to 'indian_states.json'\")\n"
   ]
  },
  {
   "cell_type": "markdown",
   "id": "20e33b1f",
   "metadata": {},
   "source": [
    "## Assignment 2\n"
   ]
  },
  {
   "cell_type": "markdown",
   "id": "fd62ec92",
   "metadata": {},
   "source": [
    "### 1. Create a class named ‘Dog’. It should have a constructor which accepts its name, age and coat color. You must perform the following operations"
   ]
  },
  {
   "cell_type": "code",
   "execution_count": 4,
   "id": "f2824c55",
   "metadata": {},
   "outputs": [
    {
     "name": "stdout",
     "output_type": "stream",
     "text": [
      "Michal is 3 years old.\n",
      "Michal's coat color is White and Brown.\n",
      "Michal (Jack Russell Terrier) is barking!\n",
      "Michal (Jack Russell Terrier) is fetching the ball.\n",
      "Rocky is 5 years old.\n",
      "Rocky's coat color is Fawn.\n",
      "Rocky (Bulldog) is growling.\n",
      "Rocky (Bulldog) is taking a nap.\n"
     ]
    }
   ],
   "source": [
    "class Dog:\n",
    "    def __init__(self, name, age, coat_color):\n",
    "        self.name = name\n",
    "        self.age = age\n",
    "        self.coat_color = coat_color\n",
    "    \n",
    "    def description(self):\n",
    "        print(f\"{self.name} is {self.age} years old.\")\n",
    "\n",
    "    def get_info(self):\n",
    "        print(f\"{self.name}'s coat color is {self.coat_color}.\")\n",
    "\n",
    "class JackRussellTerrier(Dog):\n",
    "    def bark(self):\n",
    "        print(f\"{self.name} (Jack Russell Terrier) is barking!\")\n",
    "\n",
    "    def fetch(self):\n",
    "        print(f\"{self.name} (Jack Russell Terrier) is fetching the ball.\")\n",
    "\n",
    "class Bulldog(Dog):\n",
    "    def growl(self):\n",
    "        print(f\"{self.name} (Bulldog) is growling.\")\n",
    "\n",
    "    def sleep(self):\n",
    "        print(f\"{self.name} (Bulldog) is taking a nap.\")\n",
    "\n",
    "# Creating Dog objects\n",
    "dog1 = JackRussellTerrier(\"Michal\", 3, \"White and Brown\")\n",
    "dog2 = Bulldog(\"Rocky\", 5, \"Fawn\")\n",
    "\n",
    "# Using methods\n",
    "dog1.description()\n",
    "dog1.get_info()\n",
    "dog1.bark()\n",
    "dog1.fetch()\n",
    "\n",
    "dog2.description()\n",
    "dog2.get_info()\n",
    "dog2.growl()\n",
    "dog2.sleep()\n"
   ]
  },
  {
   "cell_type": "code",
   "execution_count": null,
   "id": "a414b7f4",
   "metadata": {},
   "outputs": [],
   "source": []
  }
 ],
 "metadata": {
  "kernelspec": {
   "display_name": "Python 3 (ipykernel)",
   "language": "python",
   "name": "python3"
  },
  "language_info": {
   "codemirror_mode": {
    "name": "ipython",
    "version": 3
   },
   "file_extension": ".py",
   "mimetype": "text/x-python",
   "name": "python",
   "nbconvert_exporter": "python",
   "pygments_lexer": "ipython3",
   "version": "3.10.4"
  }
 },
 "nbformat": 4,
 "nbformat_minor": 5
}

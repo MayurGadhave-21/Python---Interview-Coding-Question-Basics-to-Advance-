{
 "cells": [
  {
   "cell_type": "markdown",
   "id": "6fadf8b8",
   "metadata": {},
   "source": [
    "## Assignment-2: List | Tuples | Dictionaries\n"
   ]
  },
  {
   "cell_type": "markdown",
   "id": "88019e9d",
   "metadata": {},
   "source": [
    "## Submitted By : Mayur Gadhave"
   ]
  },
  {
   "cell_type": "markdown",
   "id": "13c90e45",
   "metadata": {},
   "source": [
    "## Fun with Lists and Tuples\n"
   ]
  },
  {
   "cell_type": "markdown",
   "id": "210377f6",
   "metadata": {},
   "source": [
    "### Write a Python program to get a list, sorted in increasing order by the last element in each tuple from a given list of non-empty tuples\n",
    "\n"
   ]
  },
  {
   "cell_type": "markdown",
   "id": "5172c72b",
   "metadata": {},
   "source": [
    "### Solution without user input :"
   ]
  },
  {
   "cell_type": "code",
   "execution_count": 1,
   "id": "1e927323",
   "metadata": {},
   "outputs": [
    {
     "name": "stdout",
     "output_type": "stream",
     "text": [
      "[(2, 1), (1, 2), (2, 3), (4, 4), (2, 5)]\n"
     ]
    }
   ],
   "source": [
    "# Define a function to get the last element of a tuple\n",
    "def get_last_element(tuple):\n",
    "    return tuple[-1]\n",
    "\n",
    "# Create a list of tuples\n",
    "sample_list = [(2, 5), (1, 2), (4, 4), (2, 3), (2, 1)]\n",
    "\n",
    "# Sort the list based on the last element of each tuple, using the get_last_element function as the key\n",
    "sorted_list = sorted(sample_list, key=get_last_element)\n",
    "\n",
    "# Print the sorted list\n",
    "print(sorted_list)\n"
   ]
  },
  {
   "cell_type": "markdown",
   "id": "6b94dfb9",
   "metadata": {},
   "source": [
    "### Solution by taking user input"
   ]
  },
  {
   "cell_type": "code",
   "execution_count": 2,
   "id": "f28d16e9",
   "metadata": {},
   "outputs": [
    {
     "name": "stdout",
     "output_type": "stream",
     "text": [
      "Enter the number of tuples: 5\n",
      "Enter tuple (space-separated elements): 2 5\n",
      "Enter tuple (space-separated elements): 1 2\n",
      "Enter tuple (space-separated elements): 4 4 \n",
      "Enter tuple (space-separated elements): 2 3\n",
      "Enter tuple (space-separated elements): 2 1\n",
      "[(2, 1), (1, 2), (2, 3), (4, 4), (2, 5)]\n"
     ]
    }
   ],
   "source": [
    "# Define a function to get the last element of a tuple\n",
    "def get_last_element(tuple):\n",
    "    return tuple[-1]\n",
    "\n",
    "# Take user input to create a list of tuples\n",
    "n = int(input(\"Enter the number of tuples: \"))\n",
    "sample_list = []\n",
    "for i in range(n):\n",
    "    tuple_input = input(\"Enter tuple (space-separated elements): \")\n",
    "    tuple_elements = tuple(map(int, tuple_input.split()))\n",
    "    sample_list.append(tuple_elements)\n",
    "\n",
    "# Sort the list based on the last element of each tuple, using the get_last_element function as the key\n",
    "sorted_list = sorted(sample_list, key=get_last_element)\n",
    "\n",
    "# Print the sorted list\n",
    "print(sorted_list)\n"
   ]
  },
  {
   "cell_type": "markdown",
   "id": "bc369be6",
   "metadata": {},
   "source": [
    "## Make Your Own mini-Dictionary\n"
   ]
  },
  {
   "cell_type": "markdown",
   "id": "e092aa2e",
   "metadata": {},
   "source": [
    "### Write a Python program to print a dictionary whose keys should be the alphabet from a-z and the value should be corresponding ASCII values\n",
    "\n"
   ]
  },
  {
   "cell_type": "code",
   "execution_count": 3,
   "id": "70920f4f",
   "metadata": {},
   "outputs": [
    {
     "name": "stdout",
     "output_type": "stream",
     "text": [
      "{'a': 97, 'b': 98, 'c': 99, 'd': 100, 'e': 101, 'f': 102, 'g': 103, 'h': 104, 'i': 105, 'j': 106, 'k': 107, 'l': 108, 'm': 109, 'n': 110, 'o': 111, 'p': 112, 'q': 113, 'r': 114, 's': 115, 't': 116, 'u': 117, 'v': 118, 'w': 119, 'x': 120, 'y': 121, 'z': 122}\n"
     ]
    }
   ],
   "source": [
    "# Create an empty dictionary to store the alphabet and ASCII values\n",
    "ascii_dict = {}\n",
    "\n",
    "# Iterate over the range of ASCII values for lowercase alphabets from 'a' to 'z'\n",
    "# ord('a') returns the ASCII value for 'a' and ord('z') returns the ASCII value for 'z'\n",
    "for letter in range(ord('a'), ord('z') + 1):\n",
    "    # Use chr() function to convert the ASCII value back to the corresponding letter\n",
    "    # Assign the letter as the key and its ASCII value as the value in the dictionary\n",
    "    ascii_dict[chr(letter)] = letter\n",
    "\n",
    "# Print the dictionary containing the alphabet and corresponding ASCII values\n",
    "print(ascii_dict)\n"
   ]
  },
  {
   "cell_type": "code",
   "execution_count": null,
   "id": "304b4e0d",
   "metadata": {},
   "outputs": [],
   "source": []
  }
 ],
 "metadata": {
  "kernelspec": {
   "display_name": "Python 3 (ipykernel)",
   "language": "python",
   "name": "python3"
  },
  "language_info": {
   "codemirror_mode": {
    "name": "ipython",
    "version": 3
   },
   "file_extension": ".py",
   "mimetype": "text/x-python",
   "name": "python",
   "nbconvert_exporter": "python",
   "pygments_lexer": "ipython3",
   "version": "3.10.4"
  }
 },
 "nbformat": 4,
 "nbformat_minor": 5
}

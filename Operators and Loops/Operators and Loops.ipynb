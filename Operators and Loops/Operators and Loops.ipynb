{
 "cells": [
  {
   "cell_type": "markdown",
   "id": "76e2ac04",
   "metadata": {},
   "source": [
    "## Assignement 1 : Operators | Loops"
   ]
  },
  {
   "cell_type": "markdown",
   "id": "d8f4021c",
   "metadata": {},
   "source": [
    "## Submitted By : Mayur Gadhave"
   ]
  },
  {
   "cell_type": "markdown",
   "id": "12206481",
   "metadata": {},
   "source": [
    "## Lets Play With Fibonacci\n"
   ]
  },
  {
   "cell_type": "markdown",
   "id": "109606c2",
   "metadata": {},
   "source": [
    "## Write a Python program to get the Fibonacci series between 0 to 50\n",
    "\n"
   ]
  },
  {
   "cell_type": "code",
   "execution_count": 4,
   "id": "600e7536",
   "metadata": {},
   "outputs": [
    {
     "name": "stdout",
     "output_type": "stream",
     "text": [
      "Fibonacci series between 0 and 50:\n",
      "1\n",
      "1\n",
      "2\n",
      "3\n",
      "5\n",
      "8\n",
      "13\n",
      "21\n",
      "34\n"
     ]
    }
   ],
   "source": [
    "# Fibonacci function using recursion\n",
    "def fibonacci(n):\n",
    "    # Base cases for 0 and 1\n",
    "    if n <= 1:\n",
    "        return n\n",
    "    else:\n",
    "        # Recursive call to calculate Fibonacci number\n",
    "        return fibonacci(n-1) + fibonacci(n-2)\n",
    "\n",
    "# Main program\n",
    "print(\"Fibonacci series between 0 and 50:\")\n",
    "\n",
    "# Initialize index i as 1\n",
    "i = 1\n",
    "\n",
    "# Iterate until the Fibonacci number exceeds 50\n",
    "while fibonacci(i) <= 50:\n",
    "    # Print the Fibonacci number at index i\n",
    "    print(fibonacci(i))\n",
    "    \n",
    "    # Increment index i\n",
    "    i += 1\n"
   ]
  },
  {
   "cell_type": "markdown",
   "id": "4f4ad03f",
   "metadata": {},
   "source": [
    "## Send the Words To Mirror Dimension\n"
   ]
  },
  {
   "cell_type": "markdown",
   "id": "12b28d7b",
   "metadata": {},
   "source": [
    "## Write a Python program that accepts a word from the user and reverse it."
   ]
  },
  {
   "cell_type": "code",
   "execution_count": 3,
   "id": "8a281946",
   "metadata": {},
   "outputs": [
    {
     "name": "stdout",
     "output_type": "stream",
     "text": [
      "Enter a word: Edyoda\n",
      "Reversed word: adoydE\n"
     ]
    }
   ],
   "source": [
    "# Prompt the user to enter a word\n",
    "word = input(\"Enter a word: \")\n",
    "\n",
    "# Initialize an empty string to store the reversed word\n",
    "reversed_word = \"\"\n",
    "\n",
    "# Iterate over the indices of the word in reverse order\n",
    "for i in range(len(word) - 1, -1, -1):\n",
    "    # Append the character at the current index to the reversed_word string\n",
    "    reversed_word += word[i]\n",
    "\n",
    "# Print the reversed word\n",
    "print(\"Reversed word:\", reversed_word)\n"
   ]
  },
  {
   "cell_type": "markdown",
   "id": "1fd784d1",
   "metadata": {},
   "source": [
    "## Don't go Outside in Odd day\n"
   ]
  },
  {
   "cell_type": "markdown",
   "id": "602c1062",
   "metadata": {},
   "source": [
    "## Write a Python program to count the number of even and odd numbers from a series of numbers."
   ]
  },
  {
   "cell_type": "code",
   "execution_count": 5,
   "id": "d646c297",
   "metadata": {},
   "outputs": [
    {
     "name": "stdout",
     "output_type": "stream",
     "text": [
      "Enter a series of numbers (separated by spaces): 1 2 3 4 5 6 7 8 9\n",
      "Number of even numbers: 4\n",
      "Number of odd numbers: 5\n"
     ]
    }
   ],
   "source": [
    "# Prompt the user to enter a series of numbers\n",
    "numbers = input(\"Enter a series of numbers (separated by spaces): \")\n",
    "\n",
    "# Split the input into individual numbers\n",
    "number_list = numbers.split()\n",
    "\n",
    "# Initialize counters for even and odd numbers\n",
    "even_count = 0\n",
    "odd_count = 0\n",
    "\n",
    "# Iterate over each number in the list\n",
    "for number in number_list:\n",
    "    # Convert the number from string to integer\n",
    "    number = int(number)\n",
    "    \n",
    "    # Check if the number is even\n",
    "    if number % 2 == 0:\n",
    "        even_count += 1\n",
    "    else:\n",
    "        odd_count += 1\n",
    "\n",
    "# Print the count of even and odd numbers\n",
    "print(\"Number of even numbers:\", even_count)\n",
    "print(\"Number of odd numbers:\", odd_count)\n"
   ]
  },
  {
   "cell_type": "code",
   "execution_count": null,
   "id": "cf6d6d4e",
   "metadata": {},
   "outputs": [],
   "source": []
  }
 ],
 "metadata": {
  "kernelspec": {
   "display_name": "Python 3 (ipykernel)",
   "language": "python",
   "name": "python3"
  },
  "language_info": {
   "codemirror_mode": {
    "name": "ipython",
    "version": 3
   },
   "file_extension": ".py",
   "mimetype": "text/x-python",
   "name": "python",
   "nbconvert_exporter": "python",
   "pygments_lexer": "ipython3",
   "version": "3.10.4"
  }
 },
 "nbformat": 4,
 "nbformat_minor": 5
}

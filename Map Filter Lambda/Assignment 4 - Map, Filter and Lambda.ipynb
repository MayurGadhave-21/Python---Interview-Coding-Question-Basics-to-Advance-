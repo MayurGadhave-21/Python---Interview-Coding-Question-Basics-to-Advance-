{
 "cells": [
  {
   "cell_type": "markdown",
   "id": "5027c01e",
   "metadata": {},
   "source": [
    "## Play with Lambda"
   ]
  },
  {
   "cell_type": "markdown",
   "id": "e7d77d20",
   "metadata": {},
   "source": [
    "### Write a Python program to create a lambda function that adds 25 to a given number passed in as an argument.\n",
    "\n"
   ]
  },
  {
   "cell_type": "code",
   "execution_count": 1,
   "id": "b7bbe68a",
   "metadata": {},
   "outputs": [
    {
     "name": "stdout",
     "output_type": "stream",
     "text": [
      "The result of adding 25 to 10 is: 35\n"
     ]
    }
   ],
   "source": [
    "# Define the lambda function\n",
    "add_25 = lambda x: x + 25\n",
    "\n",
    "# Test the lambda function\n",
    "number = 10\n",
    "result = add_25(number)\n",
    "print(f\"The result of adding 25 to {number} is: {result}\")\n"
   ]
  },
  {
   "cell_type": "markdown",
   "id": "6839b836",
   "metadata": {},
   "source": [
    "## Find the way with Maps"
   ]
  },
  {
   "cell_type": "markdown",
   "id": "60290222",
   "metadata": {},
   "source": [
    "### Write a Python program to triple all numbers of a given list of integers. Use Python map.\n",
    "### sample list: [1, 2, 3, 4, 5, 6, 7]\n",
    "### Triple of list numbers: [3, 6, 9, 12, 15, 18, 21]"
   ]
  },
  {
   "cell_type": "code",
   "execution_count": 2,
   "id": "e4c09ce6",
   "metadata": {},
   "outputs": [
    {
     "name": "stdout",
     "output_type": "stream",
     "text": [
      "Enter a list of integers separated by spaces: 1 2 3 4 5 6 7\n",
      "Triple of list numbers:\n",
      "[3, 6, 9, 12, 15, 18, 21]\n"
     ]
    }
   ],
   "source": [
    "# Take user input for the list of integers\n",
    "input_string = input(\"Enter a list of integers separated by spaces: \")\n",
    "sample_list = list(map(int, input_string.split()))\n",
    "\n",
    "# Define the lambda function to triple a number\n",
    "triple = lambda x: x * 3\n",
    "\n",
    "# Use map to apply the lambda function to each element in the list\n",
    "result_list = list(map(triple, sample_list))\n",
    "\n",
    "# Print the tripled list\n",
    "print(\"Triple of list numbers:\")\n",
    "print(result_list)\n"
   ]
  },
  {
   "cell_type": "markdown",
   "id": "678897ef",
   "metadata": {},
   "source": [
    "## Find the Squares from the given List\n"
   ]
  },
  {
   "cell_type": "markdown",
   "id": "6a8038c5",
   "metadata": {},
   "source": [
    "### Write a Python program to square the elements of a list using map() function.\n",
    "### Sample List: [4, 5, 2, 9]\n",
    "### Square the elements of the list: [16, 25, 4, 81]"
   ]
  },
  {
   "cell_type": "code",
   "execution_count": 3,
   "id": "a4a44ead",
   "metadata": {},
   "outputs": [
    {
     "name": "stdout",
     "output_type": "stream",
     "text": [
      "Enter a list of integers separated by spaces: 4 5 2 9\n",
      "Square the elements of the list:\n",
      "[16, 25, 4, 81]\n"
     ]
    }
   ],
   "source": [
    "# Take user input for the list of integers\n",
    "input_string = input(\"Enter a list of integers separated by spaces: \")\n",
    "sample_list = list(map(int, input_string.split()))\n",
    "\n",
    "# Define the lambda function to square a number\n",
    "square = lambda x: x ** 2\n",
    "\n",
    "# Use map to apply the lambda function to each element in the list\n",
    "result_list = list(map(square, sample_list))\n",
    "\n",
    "# Print the squared list\n",
    "print(\"Square the elements of the list:\")\n",
    "print(result_list)\n"
   ]
  },
  {
   "cell_type": "code",
   "execution_count": null,
   "id": "d70327e1",
   "metadata": {},
   "outputs": [],
   "source": []
  }
 ],
 "metadata": {
  "kernelspec": {
   "display_name": "Python 3 (ipykernel)",
   "language": "python",
   "name": "python3"
  },
  "language_info": {
   "codemirror_mode": {
    "name": "ipython",
    "version": 3
   },
   "file_extension": ".py",
   "mimetype": "text/x-python",
   "name": "python",
   "nbconvert_exporter": "python",
   "pygments_lexer": "ipython3",
   "version": "3.10.4"
  }
 },
 "nbformat": 4,
 "nbformat_minor": 5
}
